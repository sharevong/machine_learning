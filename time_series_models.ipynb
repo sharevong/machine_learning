{
 "cells": [
  {
   "cell_type": "markdown",
   "metadata": {},
   "source": [
    "# 数学知识回顾\n",
    "\n",
    "变量$X$方差（variance）：\n",
    "\n",
    "$VAR(X) = E{(X - E(X))}^2 = EX^2 - {(E(X))}^2$ \n",
    "\n",
    "变量$X$与变量$Y$之间的协方差（covariance）：\n",
    "\n",
    "$COV(X, Y) = E[(X - E(X))(Y - E(Y))]$  \n",
    "\n",
    "自协方差（autocovariance），顾名思义，变量自身的协方差：\n",
    "\n",
    "$Cov(X_t, X_s) = E[(X_t - \\mu_t)(X_s - \\mu_s)] = E(X_t X_s) - \\mu_t \\mu_s$  \n",
    "\n",
    "自相关系数（autocorrelation function, ACF）：\n",
    "\n",
    "$Cor(X_t, X_s) = \\frac{COV(X_t, X_s)}{\\sigma_t \\sigma_s}$\n",
    "\n",
    "部分自相关系数（partial autocorrelation function, PACF）：\n",
    "\n",
    "$PCor(X_t, X_s) = Cor(X_t - P_{t,s}(X_t), X_s - P_{t,s}(X_s))$  \n",
    "\n",
    "其中$P_{t,s}(X_i)$表示变量$X_i$在$X_{t-1}, X_{t-2}, \\dots, X_{s+1}$向量组成空间的投影。部分自相关系数去掉了相关系数里面由$X_{t-1},\\dots,X_{s+1}$解释的相关性"
   ]
  },
  {
   "cell_type": "markdown",
   "metadata": {},
   "source": [
    "# ARIMA模型\n",
    "\n",
    "## AR模型（autoregression model）\n",
    "\n",
    "$p$阶AR模型，将时间序列表示成如下形式：\n",
    "\n",
    "$X_t = c + \\sum\\limits_{i=1}^{p}\\varphi_i X_{t-i} + \\varepsilon_t$  \n",
    "\n",
    "其中$\\varphi_1, \\varphi_2, \\dots, \\varphi_p$是模型需要学习的参数，$c$是常用，随机变量$\\varepsilon_t$为白噪声误差项。  \n",
    "\n",
    "## MA模型（moving-average model)\n",
    "\n",
    "$q$阶MA模型，将时间序列表示成如下形式：\n",
    "\n",
    "$X_t = \\mu + \\varepsilon_t + \\sum\\limits_{i=1}^{q}\\theta_i \\varepsilon_{t-i}$  \n",
    "\n",
    "其中$\\theta_1, \\theta_2, \\dots, \\theta_q$为模型需要学习的参数，$\\mu$为$X_t$的期望常量，$\\varepsilon_t, \\varepsilon_{t-1}, \\dots$为白噪声误差项。  \n",
    "\n",
    "## ARMA模型\n",
    "\n",
    "ARMA(p, q)模型综合了AR、MA项，将时间序列表示成：\n",
    "\n",
    "$X_t - \\sum\\limits_{i=1}^{p}\\varphi_i X_{t-i} = c + \\varepsilon_t + \\sum\\limits_{i=1}^{q}\\theta_i \\varepsilon_{t-i}$  \n",
    "\n",
    "记符号$L$表示向后移动操作符，使得：\n",
    "\n",
    "$L y_t = y_{t - 1}$  \n",
    "\n",
    "$L^2 y_t = y_{t - 2}$  \n",
    "\n",
    "则上式可以表示成：\n",
    "\n",
    "$(1 - \\sum\\limits_{i=1}^{p}\\varphi_i L^i)X_t = c + (1 + \\sum\\limits_{i=1}^{q}\\theta_i L^i)\\varepsilon_t$  \n",
    "\n",
    "## ARIMA模型（Autoregressive integrated moving average）\n",
    "\n",
    "当时间序列数据本身不稳定时（stationary），它的差分数据可能是稳定的，ARIMA(p, d, q)模型在ARMA模型基础上引入了$d$阶integrated项，将时间序列表示成如下形式：\n",
    "\n",
    "$(1 - \\sum\\limits_{i=1}^{p}\\varphi_i L^i)(1 - L)^d X_t = c + (1 + \\sum\\limits_{i=1}^{q}\\theta_i L^i)\\varepsilon_t$  \n",
    "\n",
    "## SARIMA模型（Seasonal Autoregressive integrated moving average）\n",
    "\n",
    "考虑到时间序列可能存在季节性趋势，在ARIMA模型基础上加入了季节性参数，SARIMA(p,d,q)$(P,D,Q)_m$模型将时间序列表示成如下形式：\n",
    "\n",
    "$(1 - \\sum\\limits_{i=1}^{p}\\varphi_i L^i)(1 - L)^d(1 - \\sum\\limits_{i=1}^{P}\\phi_1 L^{i\\cdot m})(1 - L^m)^D X_t = c + (1 + \\sum\\limits_{i=1}^{q}\\theta_i L^i)(1 + \\sum\\limits_{i=1}^{Q}\\Theta_{i\\cdot m} L^{i\\cdot m})\\varepsilon_t$  \n",
    "\n",
    "其中$(P, D, Q)_m$为模型设定的季节性参数，$\\phi_1, \\phi_2, \\dots, \\phi_P$，$\\Theta_1, \\Theta_2, \\dots, \\Theta_Q$是SARIMA新增的需要学习的参数。  \n",
    "\n",
    "参考资料：[Forecasting using Seasonal ARIMA models](./resources/10-Seasonal-ARIMA.pdf)  "
   ]
  },
  {
   "cell_type": "markdown",
   "metadata": {},
   "source": [
    "# 参数选择\n",
    "\n",
    "SARIMA模型hyperparameter参数的选取，可以通过观察ACF曲线和PACF曲线选取合适的值，选取的原则可以参考下面：\n",
    "\n",
    "[Identifying the numbers of AR or MA terms in an ARIMA model](https://people.duke.edu/~rnau/411arim3.htm)"
   ]
  },
  {
   "cell_type": "markdown",
   "metadata": {},
   "source": [
    "# 模型训练\n",
    "\n",
    "[statsmodels](https://www.statsmodels.org/stable/index.html)模块提供了丰富的时间序列模型以及其它模型，模型训练可以参考statsmodels提供的[样例](https://www.statsmodels.org/stable/examples/index.html)说明。"
   ]
  },
  {
   "cell_type": "code",
   "execution_count": null,
   "metadata": {},
   "outputs": [],
   "source": []
  }
 ],
 "metadata": {
  "kernelspec": {
   "display_name": "Python 3",
   "language": "python",
   "name": "python3"
  },
  "language_info": {
   "codemirror_mode": {
    "name": "ipython",
    "version": 3
   },
   "file_extension": ".py",
   "mimetype": "text/x-python",
   "name": "python",
   "nbconvert_exporter": "python",
   "pygments_lexer": "ipython3",
   "version": "3.6.0"
  }
 },
 "nbformat": 4,
 "nbformat_minor": 2
}
